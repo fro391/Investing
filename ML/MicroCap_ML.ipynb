{
 "cells": [
  {
   "cell_type": "code",
   "execution_count": 1,
   "metadata": {},
   "outputs": [],
   "source": [
    "import category_encoders as ce\n",
    "import numpy as np\n",
    "import pandas as pd\n",
    "\n",
    "from sklearn.linear_model import PassiveAggressiveClassifier,PassiveAggressiveRegressor\n",
    "from sklearn.ensemble import ExtraTreesClassifier, GradientBoostingRegressor, AdaBoostClassifier, RandomForestClassifier, GradientBoostingClassifier\n",
    "from sklearn.svm import SVC\n",
    "from sklearn.neural_network import MLPClassifier, MLPRegressor\n",
    "from sklearn.tree import DecisionTreeRegressor, ExtraTreeRegressor\n",
    "from sklearn.utils import shuffle\n",
    "from sklearn import preprocessing\n",
    "from sklearn.model_selection import train_test_split"
   ]
  },
  {
   "cell_type": "code",
   "execution_count": 2,
   "metadata": {},
   "outputs": [],
   "source": [
    "def positive_negative (v):\n",
    "    if float(v) >= 0:\n",
    "        return 1\n",
    "    else:\n",
    "        return 0"
   ]
  },
  {
   "cell_type": "code",
   "execution_count": 71,
   "metadata": {},
   "outputs": [],
   "source": [
    "df_data_reg = pd.read_csv('GapUp_Training.csv', header=0, encoding='ascii', engine='python')\n",
    "\n",
    "df_data = pd.read_csv('GapUp_Training.csv', header=0, encoding='ascii', engine='python')\n",
    "df_data['P_Change'] = df_data['P_Change'].map(positive_negative)"
   ]
  },
  {
   "cell_type": "code",
   "execution_count": 72,
   "metadata": {},
   "outputs": [
    {
     "name": "stdout",
     "output_type": "stream",
     "text": [
      "       Mkt_Cap   Float      Gap0      pC_1      pC_2      pC_3       V_P  \\\n",
      "0  2148.300035  185.07  0.053462  0.046789  0.029464 -0.043159  0.050701   \n",
      "1  2144.579950  185.07  0.074856 -0.043159 -0.027178  0.016963  0.055002   \n",
      "2  2414.279915  185.07  0.052196 -0.048857  0.072811  0.055882  0.060773   \n",
      "3  2245.019943  185.07  0.090206  0.072811  0.055882  0.031185  0.100922   \n",
      "4  1629.360043  185.07  0.059683 -0.010843  0.002421  0.035980  0.046273   \n",
      "\n",
      "       V1_P      V2_P      V3_P  P_Change  \n",
      "0  0.037587  0.055002  0.064621         0  \n",
      "1  0.064621  0.044589  0.042046         1  \n",
      "2  0.100922  0.061764  0.046300         1  \n",
      "3  0.061764  0.046300  0.033863         0  \n",
      "4  0.023855  0.049265  0.056982         1  \n",
      "       Mkt_Cap   Float      Gap0      pC_1      pC_2      pC_3       V_P  \\\n",
      "0  2148.300035  185.07  0.053462  0.046789  0.029464 -0.043159  0.050701   \n",
      "1  2144.579950  185.07  0.074856 -0.043159 -0.027178  0.016963  0.055002   \n",
      "2  2414.279915  185.07  0.052196 -0.048857  0.072811  0.055882  0.060773   \n",
      "3  2245.019943  185.07  0.090206  0.072811  0.055882  0.031185  0.100922   \n",
      "4  1629.360043  185.07  0.059683 -0.010843  0.002421  0.035980  0.046273   \n",
      "\n",
      "       V1_P      V2_P      V3_P  P_Change  \n",
      "0  0.037587  0.055002  0.064621 -0.039102  \n",
      "1  0.064621  0.044589  0.042046  0.029464  \n",
      "2  0.100922  0.061764  0.046300  0.022047  \n",
      "3  0.061764  0.046300  0.033863 -0.048857  \n",
      "4  0.023855  0.049265  0.056982  0.006897  \n"
     ]
    },
    {
     "data": {
      "text/plain": [
       "40925"
      ]
     },
     "execution_count": 72,
     "metadata": {},
     "output_type": "execute_result"
    }
   ],
   "source": [
    "print(df_data.head())\n",
    "len(df_data)\n",
    "\n",
    "print(df_data_reg.head())\n",
    "len(df_data_reg)"
   ]
  },
  {
   "cell_type": "code",
   "execution_count": 73,
   "metadata": {},
   "outputs": [],
   "source": [
    "X = np.array(df_data.drop(['P_Change'],1))\n",
    "y = np.array(df_data['P_Change'])\n",
    "X_train, X_test, y_train, y_test = train_test_split(X,y,test_size= 0.2)"
   ]
  },
  {
   "cell_type": "code",
   "execution_count": 74,
   "metadata": {},
   "outputs": [
    {
     "name": "stdout",
     "output_type": "stream",
     "text": [
      "classification score: 0.7005497861942578\n"
     ]
    }
   ],
   "source": [
    "import numpy as np\n",
    "import matplotlib.pyplot as plt\n",
    "\n",
    "#ExtraTrees\n",
    "clf = ExtraTreesClassifier(n_estimators=250,random_state=0).fit(X_train,y_train)\n",
    "print ('classification score: %s'%(clf.score(X_test, y_test)))\n",
    "clfExtra = ExtraTreesClassifier (n_estimators=250,random_state=0).fit(X,y)\n",
    "\n",
    "importances = clfExtra.feature_importances_\n",
    "std = np.std([tree.feature_importances_ for tree in clfExtra.estimators_],\n",
    "             axis=0)\n",
    "indices = np.argsort(importances)"
   ]
  },
  {
   "cell_type": "markdown",
   "metadata": {},
   "source": [
    "### Gap Up Variable importance"
   ]
  },
  {
   "cell_type": "code",
   "execution_count": 75,
   "metadata": {},
   "outputs": [
    {
     "data": {
      "image/png": "[encoded data removed]",
      "text/plain": [
       "<Figure size 432x288 with 1 Axes>"
      ]
     },
     "metadata": {
      "needs_background": "light"
     },
     "output_type": "display_data"
    }
   ],
   "source": [
    "# Plot the feature importances of the forest\n",
    "plt.figure()\n",
    "plt.title(\"Feature importances\")\n",
    "plt.barh(range(X.shape[1]), importances[indices],\n",
    "       color=\"r\", xerr=std[indices], align=\"center\")\n",
    "# If you want to define your own labels,\n",
    "# change indices to a list of labels on the following line.\n",
    "plt.yticks(range(X.shape[1]), indices)\n",
    "plt.ylim([-1, X.shape[1]])\n",
    "plt.show()\n",
    "#FRD: Mkt_Cap\tFloat\tGap0\tpC_1\tpC_2\tpC_3\tV_P \tV1_P\tV2_P\tV3_P\n",
    "#Gap: Mkt_Cap\tFloat\tGap0\tpC_1\tV_P \tV1_P"
   ]
  },
  {
   "cell_type": "markdown",
   "metadata": {},
   "source": [
    "### First Red Day Variable importance"
   ]
  },
  {
   "cell_type": "code",
   "execution_count": 70,
   "metadata": {},
   "outputs": [
    {
     "data": {
      "image/png": "[encoded data removed]",
      "text/plain": [
       "<Figure size 432x288 with 1 Axes>"
      ]
     },
     "metadata": {
      "needs_background": "light"
     },
     "output_type": "display_data"
    }
   ],
   "source": [
    "# Plot the feature importances of the forest\n",
    "plt.figure()\n",
    "plt.title(\"Feature importances\")\n",
    "plt.barh(range(X.shape[1]), importances[indices],\n",
    "       color=\"r\", xerr=std[indices], align=\"center\")\n",
    "# If you want to define your own labels,\n",
    "# change indices to a list of labels on the following line.\n",
    "plt.yticks(range(X.shape[1]), indices)\n",
    "plt.ylim([-1, X.shape[1]])\n",
    "plt.show()\n",
    "#FRD: Mkt_Cap\tFloat\tGap0\tpC_1\tpC_2\tpC_3\tV_P \tV1_P\tV2_P\tV3_P\n",
    "#Gap: Mkt_Cap\tFloat\tGap0\tpC_1\tV_P \tV1_P"
   ]
  },
  {
   "cell_type": "code",
   "execution_count": 76,
   "metadata": {},
   "outputs": [
    {
     "name": "stdout",
     "output_type": "stream",
     "text": [
      "classification score: 0.6965180207697007\n"
     ]
    }
   ],
   "source": [
    "#Gradiant Boosting Ensemble learning\n",
    "clf = GradientBoostingClassifier(learning_rate= 0.1, n_estimators= 250, max_depth= 11).fit(X_train,y_train)\n",
    "print ('classification score: %s'%(clf.score(X_test, y_test)))\n",
    "clfP = GradientBoostingClassifier (learning_rate= 0.1, n_estimators= 250, max_depth= 11).fit(X,y)"
   ]
  },
  {
   "cell_type": "code",
   "execution_count": 77,
   "metadata": {},
   "outputs": [
    {
     "name": "stdout",
     "output_type": "stream",
     "text": [
      "regression score: 0.16194048670526595\n"
     ]
    }
   ],
   "source": [
    "#regression prep\n",
    "X = np.array(df_data_reg.drop(['P_Change'],1))\n",
    "y = np.array(df_data_reg['P_Change'])\n",
    "X_train, X_test, y_train, y_test = train_test_split(X,y,test_size= 0.2)\n",
    "\n",
    "#Gradiant Boosting Ensemble learning\n",
    "clf = GradientBoostingRegressor(learning_rate= 0.1, n_estimators= 250, max_depth= 11).fit(X_train,y_train)\n",
    "print ('regression score: %s'%(clf.score(X_test, y_test)))\n",
    "clfP_reg = GradientBoostingRegressor (learning_rate= 0.1, n_estimators= 250, max_depth= 11).fit(X,y)"
   ]
  },
  {
   "cell_type": "code",
   "execution_count": 78,
   "metadata": {},
   "outputs": [],
   "source": [
    "#pickling predictors\n",
    "import pickle as pk\n",
    "\n",
    "with open('GAP9_GB_Classifier.p','wb') as f:\n",
    "    pk.dump(clfP,f)\n",
    "with open('GAP9_ET_Classifier.p','wb') as f:\n",
    "    pk.dump(clfExtra,f)\n",
    "with open('GAP9_GB_Regressor.p','wb') as f:\n",
    "    pk.dump(clfP_reg,f)"
   ]
  },
  {
   "cell_type": "markdown",
   "metadata": {},
   "source": [
    "## Morning Predictions"
   ]
  },
  {
   "cell_type": "code",
   "execution_count": 40,
   "metadata": {},
   "outputs": [],
   "source": [
    "#pickling predictors\n",
    "import pickle as pk\n",
    "\n",
    "clfP = pk.load(open('GAP_GB_Classifier.p','rb'))\n",
    "clfExtra = pk.load(open('GAP_ET_Classifier.p','rb'))\n",
    "clfP_reg = pk.load(open('GAP_GB_Regressor.p','rb'))"
   ]
  },
  {
   "cell_type": "code",
   "execution_count": 64,
   "metadata": {},
   "outputs": [],
   "source": [
    "#FRD: Mkt_Cap\tFloat\tGap0\tpC_1\tpC_2\tpC_3\tV_P \tV1_P\tV2_P\tV3_P\n",
    "#Gap: Mkt_Cap\tFloat\tGap0\tpC_1\tV_P \tV1_P\n",
    "\n",
    "MarketCap = 122.45\n",
    "Float = 20.28\n",
    "#gap up from close yesterday \n",
    "gapUp = 0.02\n",
    "#price increase yesterday\n",
    "pC_1 = 0.2\n",
    "#volume expected today as a % of Float\n",
    "V_P = 1\n",
    "#volume yesterday as a % of Float\n",
    "V1_P =  2\n",
    "\n",
    "pC_2 = 0\n",
    "pC_3 = 0\n",
    "V2_P = 0\n",
    "V3_P = 0\n",
    "\n",
    "# predict_list = [MarketCap,Float,gapUp,pC_1,pC_2,pC_3,V_P,V1_P,V2_P,V3_P]\n",
    "predict_list = [MarketCap,Float,gapUp,pC_1,V_P,V1_P]"
   ]
  },
  {
   "cell_type": "code",
   "execution_count": 65,
   "metadata": {},
   "outputs": [
    {
     "name": "stdout",
     "output_type": "stream",
     "text": [
      "Gradiant Boosting classification: [1], probabilities: [[0.24375068 0.75624932]]\n",
      "Extra Tree classification: [0], probabilities: [[0.896 0.104]]\n",
      "Gradiant Boosting regression: [-0.03944589]\n"
     ]
    }
   ],
   "source": [
    "#Float(M), MktCap(M), Yday_v_float, Tday_v_float\n",
    "print('Gradiant Boosting classification: {}, probabilities: {}'.format(clfP.predict([predict_list]),clfP.predict_proba([predict_list])))\n",
    "print('Extra Tree classification: {}, probabilities: {}'.format(clfExtra.predict([predict_list]),clfExtra.predict_proba([predict_list])))\n",
    "print('Gradiant Boosting regression: {}'.format(clfP_reg.predict([predict_list])))"
   ]
  },
  {
   "cell_type": "code",
   "execution_count": 6,
   "metadata": {},
   "outputs": [
    {
     "data": {
      "text/plain": [
       "'\\nBacklog: \\n-Enable scraping of predictive features from just entering Ticker symbol\\n-Enable auto scraping of up to date training data\\n'"
      ]
     },
     "execution_count": 6,
     "metadata": {},
     "output_type": "execute_result"
    }
   ],
   "source": [
    "'''\n",
    "Backlog: \n",
    "-Enable scraping of predictive features from just entering Ticker symbol\n",
    "-Enable auto scraping of up to date training data\n",
    "-add previous day price data\n",
    "-automate morning screener: https://www.chartmill.com/chartmill-rest/screener/?sort=((preMarketLast/close)%20-%201)%20*%20100&sorting=DESC&conditions=freeFloat%3C50000000,shares*close%3C300000000,shares*close%3E50000000,smaVolume50%20%3E%20200000,etf=0,(preMarketVolume%3E100000)&exchanges=125,119,3&start=0\n",
    "'''"
   ]
  },
  {
   "cell_type": "code",
   "execution_count": null,
   "metadata": {},
   "outputs": [],
   "source": []
  }
 ],
 "metadata": {
  "kernelspec": {
   "display_name": "Python 3",
   "language": "python",
   "name": "python3"
  },
  "language_info": {
   "codemirror_mode": {
    "name": "ipython",
    "version": 3
   },
   "file_extension": ".py",
   "mimetype": "text/x-python",
   "name": "python",
   "nbconvert_exporter": "python",
   "pygments_lexer": "ipython3",
   "version": "3.7.3"
  }
 },
 "nbformat": 4,
 "nbformat_minor": 4
}

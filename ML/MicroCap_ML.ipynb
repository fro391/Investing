{
 "cells": [
  {
   "cell_type": "code",
   "execution_count": 65,
   "metadata": {},
   "outputs": [],
   "source": [
    "import category_encoders as ce\n",
    "import numpy as np\n",
    "import pandas as pd\n",
    "\n",
    "from sklearn.linear_model import PassiveAggressiveClassifier,PassiveAggressiveRegressor\n",
    "from sklearn.ensemble import ExtraTreesClassifier, GradientBoostingRegressor, AdaBoostClassifier, RandomForestClassifier, GradientBoostingClassifier\n",
    "from sklearn.svm import SVC\n",
    "from sklearn.neural_network import MLPClassifier, MLPRegressor\n",
    "from sklearn.tree import DecisionTreeRegressor, ExtraTreeRegressor\n",
    "from sklearn.utils import shuffle\n",
    "from sklearn import preprocessing\n",
    "from sklearn.model_selection import train_test_split"
   ]
  },
  {
   "cell_type": "code",
   "execution_count": 66,
   "metadata": {},
   "outputs": [],
   "source": [
    "def positive_negative (v):\n",
    "    if float(v) >= 0:\n",
    "        return 1\n",
    "    else:\n",
    "        return 0"
   ]
  },
  {
   "cell_type": "code",
   "execution_count": 103,
   "metadata": {},
   "outputs": [],
   "source": [
    "df_data_reg = pd.read_csv('GapUp8_jones_Training.csv', header=0, encoding='ascii', engine='python')\n",
    "\n",
    "df_data = pd.read_csv('GapUp8_jones_Training.csv', header=0, encoding='ascii', engine='python')\n",
    "df_data['Pchange'] = df_data['Pchange'].map(positive_negative)"
   ]
  },
  {
   "cell_type": "code",
   "execution_count": 104,
   "metadata": {},
   "outputs": [
    {
     "name": "stdout",
     "output_type": "stream",
     "text": [
      "          Mcap  Float    jonesP      Gap0      Gap1  Pchange1  V_1_Float  \\\n",
      "0   416.295000  12.93  0.001993  0.983655  0.442149  0.928367   0.656729   \n",
      "1  1603.181979  52.28 -0.021264  0.984127 -0.066351 -0.200508   0.001503   \n",
      "2   122.760000   1.61  0.001993  0.270103  0.364679 -0.184874   1.137329   \n",
      "3   453.320000   9.16 -0.031881  0.729508 -0.007576 -0.068702   0.006987   \n",
      "4  1735.233023  45.86  0.001962  0.739130  0.012121 -0.035928   0.000052   \n",
      "\n",
      "    V_Float  Pchange  \n",
      "0  0.402707        0  \n",
      "1  0.010788        0  \n",
      "2  0.567702        0  \n",
      "3  0.349913        0  \n",
      "4  0.020403        0  \n",
      "          Mcap  Float    jonesP      Gap0      Gap1  Pchange1  V_1_Float  \\\n",
      "0   416.295000  12.93  0.001993  0.983655  0.442149  0.928367   0.656729   \n",
      "1  1603.181979  52.28 -0.021264  0.984127 -0.066351 -0.200508   0.001503   \n",
      "2   122.760000   1.61  0.001993  0.270103  0.364679 -0.184874   1.137329   \n",
      "3   453.320000   9.16 -0.031881  0.729508 -0.007576 -0.068702   0.006987   \n",
      "4  1735.233023  45.86  0.001962  0.739130  0.012121 -0.035928   0.000052   \n",
      "\n",
      "    V_Float   Pchange  \n",
      "0  0.402707 -0.629213  \n",
      "1  0.010788 -0.529600  \n",
      "2  0.567702 -0.553571  \n",
      "3  0.349913 -0.336493  \n",
      "4  0.020403 -0.307143  \n"
     ]
    },
    {
     "data": {
      "text/plain": [
       "41194"
      ]
     },
     "execution_count": 104,
     "metadata": {},
     "output_type": "execute_result"
    }
   ],
   "source": [
    "print(df_data.head())\n",
    "len(df_data)\n",
    "\n",
    "print(df_data_reg.head())\n",
    "len(df_data_reg)"
   ]
  },
  {
   "cell_type": "code",
   "execution_count": 105,
   "metadata": {},
   "outputs": [],
   "source": [
    "X = np.array(df_data.drop(['Pchange'],1))\n",
    "y = np.array(df_data['Pchange'])\n",
    "X_train, X_test, y_train, y_test = train_test_split(X,y,test_size= 0.2)"
   ]
  },
  {
   "cell_type": "code",
   "execution_count": 106,
   "metadata": {},
   "outputs": [
    {
     "name": "stdout",
     "output_type": "stream",
     "text": [
      "classification score: 0.7085811384876806\n"
     ]
    }
   ],
   "source": [
    "import numpy as np\n",
    "import matplotlib.pyplot as plt\n",
    "\n",
    "#ExtraTrees\n",
    "clf = ExtraTreesClassifier(n_estimators=250,random_state=0).fit(X_train,y_train)\n",
    "print ('classification score: %s'%(clf.score(X_test, y_test)))\n",
    "clfExtra = ExtraTreesClassifier (n_estimators=250,random_state=0).fit(X,y)\n",
    "\n",
    "importances = clfExtra.feature_importances_\n",
    "std = np.std([tree.feature_importances_ for tree in clfExtra.estimators_],\n",
    "             axis=0)\n",
    "indices = np.argsort(importances)"
   ]
  },
  {
   "cell_type": "markdown",
   "metadata": {},
   "source": [
    "### Gap Up Variable importance"
   ]
  },
  {
   "cell_type": "code",
   "execution_count": 107,
   "metadata": {},
   "outputs": [
    {
     "data": {
      "image/png": "[encoded data removed]",
      "text/plain": [
       "<Figure size 432x288 with 1 Axes>"
      ]
     },
     "metadata": {
      "needs_background": "light"
     },
     "output_type": "display_data"
    }
   ],
   "source": [
    "# Plot the feature importances of the forest\n",
    "plt.figure()\n",
    "plt.title(\"Feature importances\")\n",
    "plt.barh(range(X.shape[1]), importances[indices],\n",
    "       color=\"r\", xerr=std[indices], align=\"center\")\n",
    "# If you want to define your own labels,\n",
    "# change indices to a list of labels on the following line.\n",
    "plt.yticks(range(X.shape[1]), indices)\n",
    "plt.ylim([-1, X.shape[1]])\n",
    "plt.show()\n",
    "#FRD: Mkt_Cap\tFloat\tGap0\tpC_1\tpC_2\tpC_3\tV_P \tV1_P\tV2_P\tV3_P\n",
    "#Gap7: Mkt_Cap\tFloat\tGap0\tGap1\tpC_1\tV1_P \tV_P\n",
    "#Gap8: Mkt_Cap\tFloat\tJonesP\tGap0\tGap1\tpC_1\tV1_P \tV_P\n",
    "#GapUpDown: Mcap\tFloat\tGap0\tGap1\tGap2\tPchange1\tPchange2\tPchange3\tV_1_Float\tV_2_Float\tV_3_Float\tV_Float\tPchange"
   ]
  },
  {
   "cell_type": "markdown",
   "metadata": {},
   "source": [
    "### First Red Day Variable importance"
   ]
  },
  {
   "cell_type": "code",
   "execution_count": 70,
   "metadata": {},
   "outputs": [
    {
     "data": {
      "image/png": "[encoded data removed]",
      "text/plain": [
       "<Figure size 432x288 with 1 Axes>"
      ]
     },
     "metadata": {
      "needs_background": "light"
     },
     "output_type": "display_data"
    }
   ],
   "source": [
    "# Plot the feature importances of the forest\n",
    "plt.figure()\n",
    "plt.title(\"Feature importances\")\n",
    "plt.barh(range(X.shape[1]), importances[indices],\n",
    "       color=\"r\", xerr=std[indices], align=\"center\")\n",
    "# If you want to define your own labels,\n",
    "# change indices to a list of labels on the following line.\n",
    "plt.yticks(range(X.shape[1]), indices)\n",
    "plt.ylim([-1, X.shape[1]])\n",
    "plt.show()\n",
    "#FRD: Mkt_Cap\tFloat\tGap0\tpC_1\tpC_2\tpC_3\tV_P \tV1_P\tV2_P\tV3_P\n",
    "#Gap: Mkt_Cap\tFloat\tGap0\tpC_1\tV_P \tV1_P\n",
    "#GapUpDown: Mcap\tFloat\tGap0\tGap1\tGap2\tPchange1\tPchange2\tPchange3\tV_1_Float\tV_2_Float\tV_3_Float\tV_Float\tPchange"
   ]
  },
  {
   "cell_type": "code",
   "execution_count": 84,
   "metadata": {},
   "outputs": [
    {
     "name": "stdout",
     "output_type": "stream",
     "text": [
      "classification score: 0.6806651292632601\n"
     ]
    }
   ],
   "source": [
    "#Gradiant Boosting Ensemble learning\n",
    "clf = GradientBoostingClassifier(learning_rate= 0.1, n_estimators= 250, max_depth= 11).fit(X_train,y_train)\n",
    "print ('classification score: %s'%(clf.score(X_test, y_test)))\n",
    "clfP = GradientBoostingClassifier (learning_rate= 0.1, n_estimators= 250, max_depth= 11).fit(X,y)"
   ]
  },
  {
   "cell_type": "code",
   "execution_count": 85,
   "metadata": {},
   "outputs": [
    {
     "name": "stdout",
     "output_type": "stream",
     "text": [
      "regression score: 0.15314673503561693\n"
     ]
    }
   ],
   "source": [
    "#regression prep\n",
    "X = np.array(df_data_reg.drop(['Pchange'],1))\n",
    "y = np.array(df_data_reg['Pchange'])\n",
    "X_train, X_test, y_train, y_test = train_test_split(X,y,test_size= 0.2)\n",
    "\n",
    "#Gradiant Boosting Ensemble learning\n",
    "clf = GradientBoostingRegressor(learning_rate= 0.1, n_estimators= 250, max_depth= 11).fit(X_train,y_train)\n",
    "print ('regression score: %s'%(clf.score(X_test, y_test)))\n",
    "clfP_reg = GradientBoostingRegressor (learning_rate= 0.1, n_estimators= 250, max_depth= 11).fit(X,y)"
   ]
  },
  {
   "cell_type": "code",
   "execution_count": 86,
   "metadata": {},
   "outputs": [],
   "source": [
    "#pickling predictors\n",
    "import pickle as pk\n",
    "\n",
    "with open('GAP7_GB_Classifier.p','wb') as f:\n",
    "    pk.dump(clfP,f)\n",
    "with open('GAP7_ET_Classifier.p','wb') as f:\n",
    "    pk.dump(clfExtra,f)\n",
    "with open('GAP7_GB_Regressor.p','wb') as f:\n",
    "    pk.dump(clfP_reg,f)"
   ]
  },
  {
   "cell_type": "markdown",
   "metadata": {},
   "source": [
    "## Morning Predictions"
   ]
  },
  {
   "cell_type": "code",
   "execution_count": 1,
   "metadata": {},
   "outputs": [],
   "source": [
    "#pickling predictors\n",
    "import pickle as pk\n",
    "\n",
    "clfP = pk.load(open('GAP7_GB_Classifier.p','rb'))\n",
    "clfExtra = pk.load(open('GAP7_ET_Classifier.p','rb'))\n",
    "clfP_reg = pk.load(open('GAP7_GB_Regressor.p','rb'))"
   ]
  },
  {
   "cell_type": "code",
   "execution_count": 27,
   "metadata": {},
   "outputs": [],
   "source": [
    "import datetime\n",
    "import time\n",
    "import requests\n",
    "\n",
    "import json\n",
    "import pandas as pd\n",
    "import numpy as np\n",
    "\n",
    "from datetime import date, timedelta\n",
    "def prev_weekday(adate):\n",
    "    '''subtract a day from the given date, then check if the date is a weekday. \n",
    "    If not, subtract another, until you do have a weekday'''\n",
    "    adate -= timedelta(days=1)\n",
    "    while adate.weekday() > 4: # Mon-Fri are 0-4\n",
    "        adate -= timedelta(days=1)\n",
    "    return adate\n",
    "\n",
    "def symbol_downloader(symbol, days=10, days_ago=0):\n",
    "    '''take symbol and return volume and price change'''\n",
    "    dt = datetime.datetime.now()\n",
    "    UnixTime = int(time.mktime(dt.timetuple()))\n",
    "    #web variables\n",
    "    url = 'https://query1.finance.yahoo.com/v8/finance/chart/'+symbol+'?period1='+str(UnixTime-86400*(days+days_ago))+'&period2='+str(UnixTime-86400*days_ago)+'&interval=1d&indicators=quote%7Csma~60%7Cmfi~14&includePrePost=true&events=div%7Csplit%7Cearn&lang=en-CA&region=CA&corsDomain=ca.finance.yahoo.com'\n",
    "    #proxies\n",
    "    http_proxy  = ''\n",
    "    https_proxy = ''\n",
    "    ftp_proxy   = ''\n",
    "    proxyDict = { \n",
    "                  \"http\"  : http_proxy, \n",
    "                  \"https\" : https_proxy, \n",
    "                  \"ftp\"   : ftp_proxy\n",
    "                }\n",
    "\n",
    "    hdr = {'User-Agent': 'Mozilla/5.0 (Windows NT 6.1; WOW64) AppleWebKit/537.36 (KHTML, like Gecko) Chrome/41.0.2272.101 Safari/537.36',\n",
    "       'Accept': 'text/html,application/xhtml+xml,application/xml;q=0.9,image/webp,*/*;q=0.8',\n",
    "       'Connection': 'keep-alive'}\n",
    "    \n",
    "    try:\n",
    "        resp = requests.get(url, headers=hdr)\n",
    "        if resp.status_code != 200:\n",
    "            # This means something went wrong.\n",
    "            print(resp.status_code)\n",
    "        data = json.loads(resp.text)\n",
    "        #json unpack\n",
    "        timestamp = data['chart']['result'][0]['timestamp']\n",
    "        timestamp = [datetime.datetime.fromtimestamp(x).strftime('%Y%m%d') for x in timestamp]\n",
    "        quote = data['chart']['result'][0]['indicators']['quote'][0]\n",
    "#         sma60 = data['chart']['result'][0]['indicators']['sma'][0]['sma']\n",
    "        stock_df = pd.DataFrame(quote)\n",
    "        #index is symbol and timestamp\n",
    "        stock_df.index = [str(x) for x in timestamp]\n",
    "        \n",
    "        stock_df = stock_df.dropna()\n",
    "        stock_df = stock_df[~(stock_df == np.inf).any(axis=1)]\n",
    "        #if request returns legit values\n",
    "        if len(stock_df) != 0:\n",
    "            return stock_df\n",
    "                \n",
    "    except requests.exceptions.RequestException as e:  # This is the correct syntax\n",
    "        raise SystemExit(e)\n",
    "\n",
    "def symbol_downloader_intraday(symbol, days=5, days_ago=0):\n",
    "    '''returns intraday stock data'''\n",
    "    dt = datetime.datetime.now()\n",
    "    UnixTime = int(time.mktime(dt.timetuple()))\n",
    "    #web variables\n",
    "    url = 'https://query1.finance.yahoo.com/v8/finance/chart/'+symbol+'?period1='+str(UnixTime-86400*(days+days_ago))+'&period2='+str(UnixTime-86400*days_ago)+'&interval=5m&indicators=quote%7Csma~60%7Cmfi~8&includePrePost=true&events=div%7Csplit%7Cearn&lang=en-CA&region=CA&corsDomain=ca.finance.yahoo.com'\n",
    "    #proxies\n",
    "    http_proxy  = ''\n",
    "    https_proxy = ''\n",
    "    ftp_proxy   = ''\n",
    "    proxyDict = { \n",
    "                  \"http\"  : http_proxy, \n",
    "                  \"https\" : https_proxy, \n",
    "                  \"ftp\"   : ftp_proxy\n",
    "                }\n",
    "\n",
    "    hdr = {'User-Agent': 'Mozilla/5.0 (Windows NT 6.1; WOW64) AppleWebKit/537.36 (KHTML, like Gecko) Chrome/41.0.2272.101 Safari/537.36',\n",
    "       'Accept': 'text/html,application/xhtml+xml,application/xml;q=0.9,image/webp,*/*;q=0.8',\n",
    "       'Connection': 'keep-alive'}\n",
    "    \n",
    "    try:\n",
    "        resp = requests.get(url, headers=hdr)\n",
    "        if resp.status_code != 200:\n",
    "            # This means something went wrong.\n",
    "            print(resp.status_code)\n",
    "        data = json.loads(resp.text)\n",
    "        #json unpack\n",
    "        timestamp_raw = data['chart']['result'][0]['timestamp']\n",
    "        timestamp = [datetime.datetime.fromtimestamp(x).strftime('%Y%m%d') for x in timestamp_raw]\n",
    "        HH = [datetime.datetime.fromtimestamp(x).strftime('%H') for x in timestamp_raw]\n",
    "        MM = [datetime.datetime.fromtimestamp(x).strftime('%M') for x in timestamp_raw]\n",
    "        quote = data['chart']['result'][0]['indicators']['quote'][0]\n",
    "        stock_df = pd.DataFrame(quote)\n",
    "        #index is symbol and timestamp\n",
    "        stock_df.index = [str(x) for x in timestamp]\n",
    "        \n",
    "        stock_df['hh'] = HH\n",
    "        stock_df['mm'] = MM\n",
    "        \n",
    "        stock_df = stock_df.dropna()\n",
    "        stock_df = stock_df[~(stock_df == np.inf).any(axis=1)]\n",
    "        #if request returns legit values\n",
    "        if len(stock_df) != 0:\n",
    "            return stock_df\n",
    "        \n",
    "    except requests.exceptions.RequestException as e:  # This is the correct syntax\n",
    "        raise SystemExit(e)\n",
    "\n",
    "def txt_to_float (amount): \n",
    "    '''\n",
    "    Take text large number with letter suffix, and turn into float\n",
    "    '''\n",
    "    try: \n",
    "        num_amount = 0.00\n",
    "        quant = amount[-1]\n",
    "        amount = amount[:-1]\n",
    "        if quant == 'T': \n",
    "            num_amount = float(amount) * 1000000000000\n",
    "        elif quant == 'B': \n",
    "            num_amount = float(amount) * 1000000000\n",
    "        elif quant == 'M':\n",
    "            num_amount = float(amount) * 1000000\n",
    "        elif quant == 'K':\n",
    "            num_amount = float(amount) * 1000\n",
    "        else: \n",
    "            num_amount = float(amount)\n",
    "        return num_amount\n",
    "    except:\n",
    "        return 0"
   ]
  },
  {
   "cell_type": "code",
   "execution_count": 54,
   "metadata": {},
   "outputs": [
    {
     "name": "stdout",
     "output_type": "stream",
     "text": [
      "          open   close  high     low  volume  hh  mm\n",
      "20200717  3.49  3.4701  3.50  3.4700       0  19  10\n",
      "20200717  3.47  3.5300  3.53  3.4699       0  19  15\n",
      "20200717  3.52  3.5300  3.54  3.5000       0  19  20\n",
      "20200717  3.50  3.5200  3.52  3.5000       0  19  25\n",
      "20200717  3.52  3.5200  3.53  3.5200       0  19  30\n",
      "20200717  3.52  3.5400  3.54  3.5200       0  19  35\n",
      "20200717  3.53  3.4600  3.53  3.4600       0  19  40\n",
      "20200717  3.46  3.4900  3.49  3.4600       0  19  45\n",
      "20200717  3.47  3.4900  3.53  3.4700       0  19  50\n",
      "20200717  3.49  3.4700  3.49  3.4700       0  19  55\n"
     ]
    }
   ],
   "source": [
    "print (symbol_downloader_intraday('BOXL').tail(10))"
   ]
  },
  {
   "cell_type": "code",
   "execution_count": 63,
   "metadata": {},
   "outputs": [
    {
     "name": "stdout",
     "output_type": "stream",
     "text": [
      "Mkt Cap of BOXL is: 133.81\n",
      "Float of BOXL is: 11.77\n",
      "Gap up today of BOXL is: 0.09809267739251415\n",
      "Gap up yesterday of BOXL is: -0.040476096946902365\n",
      "Price change yesterday of BOXL is: -0.08933005329335317\n",
      "V yesterday of BOXL is: 4.981529311809686\n",
      "V today prediction of BOXL is: 17.582539507221753\n",
      "Gradiant Boosting classification: [1], probabilities: [[0.4069778 0.5930222]]\n",
      "Extra Tree classification: [1], probabilities: [[0.384 0.616]]\n",
      "Gradiant Boosting regression: [-0.00062712]\n",
      "-----------------------------------------------------------------------------\n",
      "Mkt Cap of VUZI is: 133.81\n",
      "Float of VUZI is: 11.77\n",
      "Gap up today of VUZI is: 0.04379557724848726\n",
      "Gap up yesterday of VUZI is: 0.02386632536203491\n",
      "Price change yesterday of VUZI is: -0.0419580023168284\n",
      "V yesterday of VUZI is: 0.2810705182667799\n",
      "V today prediction of VUZI is: 1.380818181818182\n",
      "Gradiant Boosting classification: [1], probabilities: [[0.04037029 0.95962971]]\n",
      "Extra Tree classification: [1], probabilities: [[0.392 0.608]]\n",
      "Gradiant Boosting regression: [0.21975871]\n",
      "-----------------------------------------------------------------------------\n"
     ]
    }
   ],
   "source": [
    "import finviz\n",
    "import gc\n",
    "gc.collect()\n",
    "\n",
    "#date variables\n",
    "dateTday = date.today().strftime('%Y%m%d')\n",
    "dateYday = prev_weekday(date.today()).strftime('%Y%m%d')\n",
    "date2day = prev_weekday(prev_weekday(date.today())).strftime('%Y%m%d')\n",
    "\n",
    "#stock variables\n",
    "symbol_list = ['BOXL']\n",
    "\n",
    "for s in symbol_list: \n",
    "    #stock dataframes\n",
    "    symbol_df = symbol_downloader(s)\n",
    "    intraday_symbol_df = symbol_downloader_intraday (s)\n",
    "    tday_df = intraday_symbol_df.loc[dateTday]\n",
    "    yday_df = intraday_symbol_df.loc[dateYday]\n",
    "\n",
    "    #daily data\n",
    "    vol_yday = symbol_df.loc[dateYday,'volume']/1000000\n",
    "    yday_close = symbol_df.loc[dateYday,'close']\n",
    "    yday_open = symbol_df.loc[dateYday,'open']\n",
    "    pChange_yday = (yday_close-yday_open)/yday_open\n",
    "\n",
    "    #Pre market volume today \n",
    "    Pre_Mkt_Vol = tday_df.loc[tday_df['hh'].isin(['07','08','09']),'volume'].sum()\n",
    "    #get latest pre mkt price today after 0900\n",
    "    tday_open = list(tday_df.loc[(tday_df['hh'].isin(['09']) & tday_df['mm'].isin(['00','05','10','15','20','25','30'])),'open'])[-1]\n",
    "\n",
    "    #current market cap\n",
    "    MarketCap = txt_to_float(finviz.get_stock(symbol)['Market Cap'])/1000000\n",
    "    #Current float\n",
    "    Float = txt_to_float(finviz.get_stock(symbol)['Shs Float'])/1000000\n",
    "    #yesterday's Gapup\n",
    "    gapUp1 = (symbol_df.loc[dateYday,'open']-symbol_df.loc[date2day,'close'])/symbol_df.loc[date2day,'close']\n",
    "    #price increase yesterday - open to close\n",
    "    pC_1 = pChange_yday\n",
    "    #volume yesterday as a % of Float\n",
    "    V1_P = vol_yday/Float\n",
    "\n",
    "    #gap up from close yesterday \n",
    "    gapUp = (tday_open - yday_close) / yday_close\n",
    "    #volume expected today as a % of Float\n",
    "    V_P = Pre_Mkt_Vol*10/1000000/Float\n",
    "\n",
    "    #gapUp = (symbol_df.loc[dateTday,'open']-symbol_df.loc[dateYday,'close'])/symbol_df.loc[dateYday,'close'] #for use intraday\n",
    "    #V_P = symbol_df.loc[dateTday,'volume']/1000000/Float #for after market use\n",
    "\n",
    "    print ('Mkt Cap of {} is: {}'.format(s,MarketCap))\n",
    "    print ('Float of {} is: {}'.format(s,Float))\n",
    "    print ('Gap up today of {} is: {}'.format(s,gapUp))\n",
    "    print ('Gap up yesterday of {} is: {}'.format(s,gapUp1))\n",
    "    print ('Price change yesterday of {} is: {}'.format(s,pC_1))\n",
    "    print ('V yesterday of {} is: {}'.format(s,V1_P))\n",
    "    print ('V today prediction of {} is: {}'.format(s,V_P))\n",
    "\n",
    "    predict_list = [MarketCap,Float,gapUp,gapUp1,pC_1,V1_P,V_P]\n",
    "    #Gap7: Mkt_Cap\tFloat\tGap0\tGap1\tpC_1\tV1_P \tV_P\n",
    "    \n",
    "    #Float(M), MktCap(M), Yday_v_float, Tday_v_float\n",
    "    print('Gradiant Boosting classification: {}, probabilities: {}'.format(clfP.predict([predict_list]),clfP.predict_proba([predict_list])))\n",
    "    print('Extra Tree classification: {}, probabilities: {}'.format(clfExtra.predict([predict_list]),clfExtra.predict_proba([predict_list])))\n",
    "    print('Gradiant Boosting regression: {}'.format(clfP_reg.predict([predict_list])))\n",
    "    print('-----------------------------------------------------------------------------')"
   ]
  },
  {
   "cell_type": "code",
   "execution_count": 6,
   "metadata": {},
   "outputs": [
    {
     "data": {
      "text/plain": [
       "'\\nBacklog: \\n-Enable scraping of predictive features from just entering Ticker symbol\\n-Enable auto scraping of up to date training data\\n'"
      ]
     },
     "execution_count": 6,
     "metadata": {},
     "output_type": "execute_result"
    }
   ],
   "source": [
    "'''\n",
    "Backlog: \n",
    "-Enable auto logging of predictions with timestamp\n",
    "-Enable auto scraping of up to date training data\n",
    "-automate morning screener: https://www.chartmill.com/chartmill-rest/screener/?sort=((preMarketLast/close)%20-%201)%20*%20100&sorting=DESC&conditions=freeFloat%3C50000000,shares*close%3C300000000,shares*close%3E50000000,smaVolume50%20%3E%20200000,etf=0,(preMarketVolume%3E100000)&exchanges=125,119,3&start=0\n",
    "'''"
   ]
  },
  {
   "cell_type": "code",
   "execution_count": null,
   "metadata": {},
   "outputs": [],
   "source": []
  }
 ],
 "metadata": {
  "kernelspec": {
   "display_name": "Python 3",
   "language": "python",
   "name": "python3"
  },
  "language_info": {
   "codemirror_mode": {
    "name": "ipython",
    "version": 3
   },
   "file_extension": ".py",
   "mimetype": "text/x-python",
   "name": "python",
   "nbconvert_exporter": "python",
   "pygments_lexer": "ipython3",
   "version": "3.7.3"
  }
 },
 "nbformat": 4,
 "nbformat_minor": 4
}

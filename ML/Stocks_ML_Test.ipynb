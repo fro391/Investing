{
 "cells": [
  {
   "cell_type": "code",
   "execution_count": 54,
   "metadata": {
    "collapsed": true
   },
   "outputs": [],
   "source": [
    "import urllib2\n",
    "import json\n",
    "import datetime\n",
    "import time\n",
    "import threading\n",
    "import timeit\n",
    "import pandas as pd\n",
    "import cPickle as pk\n",
    "from time import strftime,strptime,gmtime\n",
    "import datetime\n",
    "\n",
    "import numpy as np\n",
    "import scipy as sp\n",
    "\n",
    "def warn(*args, **kwargs):\n",
    "    pass\n",
    "import warnings\n",
    "warnings.warn = warn\n",
    "\n",
    "# Visualization libraries\n",
    "# Displays plots in output cell\n",
    "%matplotlib inline\n",
    "import matplotlib.pyplot as plt\n",
    "import seaborn as sns\n",
    "\n",
    "from sklearn import preprocessing, cross_validation\n",
    "from sklearn.linear_model import LinearRegression, LogisticRegression, BayesianRidge, SGDClassifier\n",
    "from sklearn.ensemble import GradientBoostingRegressor, AdaBoostClassifier, RandomForestClassifier, GradientBoostingClassifier\n",
    "from sklearn.svm import SVC\n",
    "from sklearn.tree import DecisionTreeRegressor, ExtraTreeRegressor"
   ]
  },
  {
   "cell_type": "code",
   "execution_count": 55,
   "metadata": {
    "collapsed": true
   },
   "outputs": [],
   "source": [
    "def positive_negative (v):\n",
    "    if v >= 0:\n",
    "        return 1\n",
    "    else: \n",
    "        return 0 "
   ]
  },
  {
   "cell_type": "code",
   "execution_count": 238,
   "metadata": {
    "collapsed": false
   },
   "outputs": [],
   "source": [
    "def learning_downloader (stock_list,days = 500,shift_days = 10):\n",
    "    #date variables\n",
    "    dt = datetime.datetime.now()\n",
    "    UnixTime = int(time.mktime(dt.timetuple()))\n",
    "    data_df = pd.DataFrame()\n",
    "    for s in stock_list:\n",
    "        #web variables\n",
    "        url = 'https://query1.finance.yahoo.com/v8/finance/chart/'+s+'?period1='+str(UnixTime-86400*days)+'&period2='+str(UnixTime)+'&interval=1d&indicators=quote%7Csma~50&includePrePost=true&events=div%7Csplit%7Cearn&lang=en-CA&region=CA&corsDomain=ca.finance.yahoo.com'\n",
    "        hdr = {'User-Agent': 'Mozilla/5.0 (Windows NT 6.1; WOW64) AppleWebKit/537.36 (KHTML, like Gecko) Chrome/41.0.2272.101 Safari/537.36',\n",
    "               'Accept': 'text/html,application/xhtml+xml,application/xml;q=0.9,image/webp,*/*;q=0.8',\n",
    "               'Connection': 'keep-alive'}\n",
    "        #html data request \n",
    "        try:\n",
    "            request = urllib2.Request(url,headers = hdr)\n",
    "            htmltext = urllib2.urlopen(request)\n",
    "        \n",
    "            data = json.load(htmltext)\n",
    "            #json unpack\n",
    "            timestamp = data['chart']['result'][0]['timestamp']\n",
    "            timestamp = [datetime.datetime.fromtimestamp(x).strftime('%Y%m%d') for x in timestamp]\n",
    "            quote = data['chart']['result'][0]['indicators']['quote'][0]\n",
    "            sma50 = data['chart']['result'][0]['indicators']['sma'][0]['sma']\n",
    "            stock_df = pd.DataFrame(quote)\n",
    "            #index is symbol and timestamp\n",
    "            stock_df.index = [s + str(x) for x in timestamp]\n",
    "\n",
    "            #moving averages\n",
    "            stock_df['sma'] = sma50\n",
    "            stock_df['vol20'] = stock_df['volume'].rolling(window=20).mean()\n",
    "            stock_df = stock_df.dropna()\n",
    "\n",
    "            #derived columns\n",
    "            stock_df['c_0'] = stock_df['close']/stock_df['sma']\n",
    "            stock_df['h_0'] = stock_df['high']/stock_df['sma']\n",
    "            stock_df['l_0'] = stock_df['low']/stock_df['sma']\n",
    "            stock_df['o_0'] = stock_df['open']/stock_df['sma']\n",
    "            stock_df['v_0'] = stock_df['volume']/stock_df['vol20']\n",
    "            stock_df['r'] = (stock_df['close']-stock_df['open'])/stock_df['open']\n",
    "\n",
    "            #rolling columns\n",
    "            for d in list(range(1,shift_days+1)):\n",
    "                stock_df['c_'+str(d)] = stock_df['c_0'].shift(d)\n",
    "                stock_df['h_'+str(d)] = stock_df['h_0'].shift(d)\n",
    "                stock_df['l_'+str(d)] = stock_df['l_0'].shift(d)\n",
    "                stock_df['o_'+str(d)] = stock_df['o_0'].shift(d)\n",
    "                stock_df['v_'+str(d)] = stock_df['v_0'].shift(d)\n",
    "            stock_df.drop(['close', 'high', 'low', 'open','volume','sma','vol20'], axis=1, inplace=True)\n",
    "            stock_df = stock_df.dropna()\n",
    "\n",
    "            #add to main df \n",
    "            if len(data_df) == 0:\n",
    "                data_df = stock_df\n",
    "            elif timestamp is None : \n",
    "                pass\n",
    "            else:\n",
    "                data_df = data_df.append(stock_df)\n",
    "            \n",
    "        except:\n",
    "            pass\n",
    "            \n",
    "    data_df = data_df.dropna()\n",
    "    return data_df\n",
    "        "
   ]
  },
  {
   "cell_type": "code",
   "execution_count": 239,
   "metadata": {
    "collapsed": false
   },
   "outputs": [],
   "source": [
    "#download learning data from list of stocks\n",
    "stock_list = ['AA', 'ABT', 'ABX', 'ADI', 'ADM', 'AET', 'AMD', 'AMR', 'APC', 'AVP', 'AXP', 'BA', 'BAC', 'BAX', 'BBY', 'BK', 'BMC', 'BMY', 'BNI', 'BP', 'CA', 'CAT', 'CI', 'CL', 'COP', 'CVX', 'DD', 'DE', 'DIS', 'DOW', 'EK', 'EMC', 'EMR', 'FNM', 'FRE', 'FRX', 'GE', 'GLW', 'GPS', 'GSK', 'HAL', 'HD', 'HON', 'HPQ', 'HRB', 'IBM', 'IGT', 'JNJ', 'JPM', 'JWN', 'KO', 'KR', 'LLY', 'LOW', 'LTD', 'LUV', 'MCD', 'MDT', 'MMM', 'MO', 'MOT', 'MRK', 'MRO', 'MU', 'MYL', 'NKE', 'NSM', 'NWS', 'OXY', 'PEP', 'PFE', 'PG', 'RSH', 'SLB', 'SLE', 'SLM', 'STJ', 'SYK', 'SYY', 'TGT', 'TJX', 'TMX', 'TXN', 'UN', 'UNH', 'UTX', 'VOD', 'VZ', 'WAG', 'WFC', 'WMB', 'WMT', 'XOM', 'XRX']\n",
    "#stock_list = ['^GDAXI','^FTSE','^DJI','^FCHI','^N225','^HSI','^AXJO','^GSPC','^IXIC','^TNX','^VIX']\n",
    "ml_df = learning_downloader(stock_list)\n",
    "#not making decision on intraday close high low and volumes \n",
    "ml_df = ml_df.drop(['c_0','v_0'], axis=1)\n",
    "#ml_df['r'] = ml_df['r'].map(positive_negative)"
   ]
  },
  {
   "cell_type": "code",
   "execution_count": 243,
   "metadata": {
    "collapsed": false
   },
   "outputs": [],
   "source": [
    "#learning data prep\n",
    "X = np.array(ml_df.drop(['r'],1))\n",
    "y = np.array(ml_df['r'])\n",
    "X_train, X_test, y_train, y_test = cross_validation.train_test_split(X,y,test_size= 0.2)"
   ]
  },
  {
   "cell_type": "code",
   "execution_count": 244,
   "metadata": {
    "collapsed": false
   },
   "outputs": [
    {
     "name": "stdout",
     "output_type": "stream",
     "text": [
      "0.377018749166\n"
     ]
    }
   ],
   "source": [
    "#Gradiant Boosting Ensemble\n",
    "clf = GradientBoostingRegressor(n_estimators=100, learning_rate=1.0, max_depth=1, random_state=0).fit(X_train,y_train)\n",
    "print clf.score(X_test, y_test)\n",
    "clf = GradientBoostingRegressor(n_estimators=100, learning_rate=1.0, max_depth=1, random_state=0).fit(X,y)"
   ]
  },
  {
   "cell_type": "code",
   "execution_count": 245,
   "metadata": {
    "collapsed": false
   },
   "outputs": [
    {
     "data": {
      "image/png": "[encoded data removed]",
      "text/plain": [
       "<matplotlib.figure.Figure at 0xb3b76d8>"
      ]
     },
     "metadata": {},
     "output_type": "display_data"
    }
   ],
   "source": [
    "feature_names = ml_df.drop(['r'],1).columns.values\n",
    "x = np.arange(len(feature_names))\n",
    "plt.bar(x, clf.feature_importances_)\n",
    "_= plt.xticks(x + 0.5, feature_names, rotation=90)"
   ]
  },
  {
   "cell_type": "code",
   "execution_count": 187,
   "metadata": {
    "collapsed": false
   },
   "outputs": [],
   "source": [
    "#def stock_predict (symbol,clf):\n",
    "    "
   ]
  }
 ],
 "metadata": {
  "anaconda-cloud": {},
  "kernelspec": {
   "display_name": "Python [conda root]",
   "language": "python",
   "name": "conda-root-py"
  },
  "language_info": {
   "codemirror_mode": {
    "name": "ipython",
    "version": 2
   },
   "file_extension": ".py",
   "mimetype": "text/x-python",
   "name": "python",
   "nbconvert_exporter": "python",
   "pygments_lexer": "ipython2",
   "version": "2.7.12"
  }
 },
 "nbformat": 4,
 "nbformat_minor": 1
}

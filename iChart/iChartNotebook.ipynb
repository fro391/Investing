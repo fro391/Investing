{
 "cells": [
  {
   "cell_type": "code",
   "execution_count": 1,
   "metadata": {
    "collapsed": true
   },
   "outputs": [],
   "source": [
    "import urllib2\n",
    "import json\n",
    "import datetime\n",
    "import time\n",
    "import threading\n",
    "import timeit\n",
    "import pandas as pd\n",
    "from time import strftime,strptime,gmtime\n",
    "import datetime\n",
    "import smtplib\n",
    "from email.mime.text import MIMEText"
   ]
  },
  {
   "cell_type": "code",
   "execution_count": 2,
   "metadata": {
    "collapsed": true
   },
   "outputs": [],
   "source": [
    "#start timer\n",
    "start = timeit.default_timer()\n",
    "\n",
    "#declare global lock object\n",
    "global lock\n",
    "lock = threading.Lock()"
   ]
  },
  {
   "cell_type": "code",
   "execution_count": 22,
   "metadata": {
    "collapsed": true
   },
   "outputs": [],
   "source": [
    "#gets a symbol's Boiller band info from yahoo\n",
    "def getiChart (symbol):\n",
    "    dt = datetime.datetime.now()\n",
    "    UnixTime = int(time.mktime(dt.timetuple()))\n",
    "    #https://query1.finance.yahoo.com/v8/finance/chart/KING?period2=1430672173&period1=1378832173&interval=1d&indicators=quote%7Cbollinger~20-2%7Csma~50%7Csma~50%7Csma~50%7Cmfi~14%7Cmacd~26-12-9%7Crsi~14%7Cstoch~14-1-3&includeTimestamps=true&includePrePost=false&events=div%7Csplit%7Cearn&corsDomain=finance.yahoo.com\n",
    "    url='https://query1.finance.yahoo.com/v8/finance/chart/'+symbol+'?period2='+str(UnixTime)+'&period1='+str(UnixTime-86400*21)+'&interval=1d&indicators=quote%7Cbollinger~20-2%7Csma~50%7Csma~20%7Csma~5%7Cmfi~14%7Cmacd~26-12-9%7Crsi~14%7Cstoch~14-1-3&includeTimestamps=true&includePrePost=false&events=div%7Csplit%7Cearn&corsDomain=finance.yahoo.com'\n",
    "    #use legitimate header so bot won't pick up\n",
    "    hdr = {'User-Agent': 'Mozilla/5.0 (Windows NT 6.1; WOW64) AppleWebKit/537.36 (KHTML, like Gecko) Chrome/41.0.2272.101 Safari/537.36',\n",
    "       'Accept': 'text/html,application/xhtml+xml,application/xml;q=0.9,image/webp,*/*;q=0.8',\n",
    "       'Connection': 'keep-alive'}\n",
    "    \n",
    "    print url\n",
    "    \n",
    "    try:\n",
    "        request = urllib2.Request(url,headers = hdr)\n",
    "        htmltext = urllib2.urlopen(request)\n",
    "        #dictionaries\n",
    "        data = json.load(htmltext)\n",
    "        quote = data['chart']['result'][0]['indicators']['quote'][0]\n",
    "        boillinger = data['chart']['result'][0]['indicators']['bollinger'][0]\n",
    "        MACD = data['chart']['result'][0]['indicators']['macd'][0]\n",
    "        RSI = data['chart']['result'][0]['indicators']['rsi'][0]\n",
    "        SMA50 = data['chart']['result'][0]['indicators']['sma'][0]\n",
    "        SMA20 = data['chart']['result'][0]['indicators']['sma'][1]\n",
    "        SMA5 = data['chart']['result'][0]['indicators']['sma'][2]\n",
    "        MFI = data['chart']['result'][0]['indicators']['mfi'][0]\n",
    "        STOCH = data['chart']['result'][0]['indicators']['stoch'][0]\n",
    "        LASTTRADEDATE = data['chart']['result'][0]['timestamp']\n",
    "\n",
    "        #last trade date and last closing price\n",
    "        lastTradeDate = LASTTRADEDATE [-1]\n",
    "        close = quote ['close'][-1]\n",
    "        close1 = quote ['close'][-2]\n",
    "        opn = quote['open'][-1]\n",
    "        high = quote['high'][-1]\n",
    "        low= quote['low'][-1]\n",
    "        pChange = (close - opn)/float(opn)\n",
    "\n",
    "        vol = quote['volume'][-1]\n",
    "        #Vol as percentage of avg 20 days vol\n",
    "        avgV20Pct = vol / (sum(quote['volume'])/float(len(quote['volume'])))\n",
    "\n",
    "        #boillinger data\n",
    "        BoilUpper = boillinger['upper'][-1]\n",
    "        BoilLower = boillinger['lower'][-1]\n",
    "        BandWidth = float(BoilUpper)-float(BoilLower)\n",
    "        #MACD data\n",
    "        divergence = MACD['divergence'][-1]\n",
    "        signal = MACD ['signal'][-1]\n",
    "        macd = MACD ['macd'][-1]\n",
    "        #RSI data\n",
    "        rsi = RSI['rsi'][-1]\n",
    "        #SMA data\n",
    "        sma50 = SMA50['sma'][-1]\n",
    "        sma20 = SMA20['sma'][-1]\n",
    "        sma5 = SMA5['sma'][-1]\n",
    "\n",
    "        #Avg price as percentage of sma50\n",
    "        sma50pct = ((close + opn + high + low)/4) / float(sma50)\n",
    "\n",
    "        #MFI data\n",
    "        mfi = MFI['mfi'][-1]\n",
    "        #STOCH\n",
    "        stochK = STOCH['k'][-1]\n",
    "        stochD = STOCH['d'][-1]\n",
    "\n",
    "        if BandWidth != 0:\n",
    "            # percent of price in boillenger band\n",
    "            BoilPercent = (float(close) -float(BoilLower))/ BandWidth\n",
    "            # of divergence over close price\n",
    "            divergencePercent = float(divergence)/float(close)\n",
    "            #variable to be written to file. this will still process if thread is locked\n",
    "            toBeWritten = (str(symbol)+datetime.datetime.today().strftime('%Y%m%d')+','+ str(BandWidth)+','+ str(BoilUpper)+','+str(close1)+','+str(close)+','+str(opn)+','+str(high)+','+str(low)+','+str(pChange)+','+str(avgV20Pct)+','+str(int(vol))+','+str(sma50pct)+','+ str(BoilLower)+','+ str(BoilPercent)+','+str(divergence)+','+str(signal)+','+str(macd)+','+str(divergencePercent)+','+str(rsi)+','+str(sma50)+','+str(sma20)+','+str(sma5)+','+str(mfi)+','+str(stochK)+','+str(stochD)+','+str(lastTradeDate)+'\\n')\n",
    "\n",
    "            return toBeWritten\n",
    "\n",
    "    except Exception as ex:\n",
    "        template = \"An exception of type {0} occured. Arguments:\\n{1!r}\"\n",
    "        message = template.format(type(ex).__name__, ex.args)\n",
    "        print message, symbol\n"
   ]
  },
  {
   "cell_type": "code",
   "execution_count": 23,
   "metadata": {
    "collapsed": false
   },
   "outputs": [
    {
     "name": "stdout",
     "output_type": "stream",
     "text": [
      "https://query1.finance.yahoo.com/v8/finance/chart/shop?period2=1531274213&period1=1529459813&interval=1d&indicators=quote%7Cbollinger~20-2%7Csma~50%7Csma~20%7Csma~5%7Cmfi~14%7Cmacd~26-12-9%7Crsi~14%7Cstoch~14-1-3&includeTimestamps=true&includePrePost=false&events=div%7Csplit%7Cearn&corsDomain=finance.yahoo.com\n",
      "shop20180710,35.5512,176.8596,158.449996948,158.979995728,158.619995117,160.365005493,157.809997559,0.00226957900286,0.54988570724,773000,1.05333447633,141.3084,0.497074521466,-0.6674,1.3779,0.7105,-0.00419801244141,55.5901,150.8958,159.084,155.484,44.4124,53.5292,50.9363,1531229400\n",
      "\n"
     ]
    }
   ],
   "source": [
    "print getiChart('shop')"
   ]
  },
  {
   "cell_type": "code",
   "execution_count": null,
   "metadata": {
    "collapsed": true
   },
   "outputs": [],
   "source": []
  }
 ],
 "metadata": {
  "kernelspec": {
   "display_name": "Python [conda root]",
   "language": "python",
   "name": "conda-root-py"
  },
  "language_info": {
   "codemirror_mode": {
    "name": "ipython",
    "version": 2
   },
   "file_extension": ".py",
   "mimetype": "text/x-python",
   "name": "python",
   "nbconvert_exporter": "python",
   "pygments_lexer": "ipython2",
   "version": "2.7.12"
  }
 },
 "nbformat": 4,
 "nbformat_minor": 1
}
